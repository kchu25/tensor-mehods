{
 "cells": [
  {
   "cell_type": "code",
   "execution_count": 16,
   "metadata": {},
   "outputs": [],
   "source": [
    "import tensorly as tl\n",
    "from tensorly.decomposition import symmetric_power_iteration\n",
    "import numpy as np\n",
    "np.set_printoptions(precision=3, suppress=True)\n",
    "\n",
    "def matprint(mat, fmt=\"g\"):\n",
    "    col_maxes = [max([len((\"{:\"+fmt+\"}\").format(x)) for x in col]) for col in mat.T]\n",
    "    for x in mat:\n",
    "        for i, y in enumerate(x):\n",
    "            print((\"{:\"+str(col_maxes[i])+fmt+\"}\").format(y), end=\"  \")\n",
    "        print(\"\")\n",
    "  \n",
    "def svd_whiten(X, k):\n",
    "    # X: matrix to decompose\n",
    "    # k: rank approximation\n",
    "    \n",
    "    U, s, Vt = np.linalg.svd(X, full_matrices=False)\n",
    "    # rank k approximation\n",
    "    U = U[:,:k]\n",
    "    s = s[:k]\n",
    "    Vt = Vt[:k,:]\n",
    "    \n",
    "    D_half = np.diag(np.sqrt(s))\n",
    "    W = np.diag(1./np.sqrt(s)) @ U.T\n",
    "\n",
    "    # so np.dot(np.dot(W.T, X),W) is the identity matrix\n",
    "        \n",
    "    return W , D_half, U\n",
    "\n",
    "def rank_k_pseudoinverse(X, k):\n",
    "    # pseudoinverse of rank k approximation of X\n",
    "    U, s, Vt = np.linalg.svd(X, full_matrices=False)\n",
    "\n",
    "    return np.linalg.pinv(U[:,:k] @ np.diag(s[:k]) @ Vt[:k,:])\n",
    "\n",
    "def model_1():\n",
    "    component_param =  {0: np.array([[0.15, 0.05, 0.8],\n",
    "                                    [0.2, 0.15, 0.65],\n",
    "                                    [0.12, 0.14, 0.74]]),\n",
    "                      1: np.array([[0.2, 0.1  , 0.7],\n",
    "                                   [0.1, 0.1, 0.8],\n",
    "                                   [0.3, 0.2,  0.5]]),\n",
    "                      2: np.array([[0.4, 0.15, 0.45],\n",
    "                             [0.9, 0.03, 0.07],\n",
    "                             [0.1, 0.7, 0.2]])}\n",
    "    \n",
    "    h_weights = np.array([0.2, 0.5, 0.3])\n",
    "    return component_param, h_weights\n",
    "\n",
    "def model_2():\n",
    "    component_param =  {0: np.array([[0.15, 0.05, 0.2, .01, .59],\n",
    "                                    [0.2, 0.15, .04, 0.55, .06],\n",
    "                                    [0.12, 0.14, 0.7, .02, .02]]),\n",
    "                      1: np.array([[0.2, 0.4  , 0.2, .1, .1],\n",
    "                                   [0.1, 0.03, 0.57, .15, .15],\n",
    "                                   [0.3, 0.1, .1, .33, .17]]),\n",
    "                      2: np.array([[0.4, 0.45, .03, .02, .1],\n",
    "                             [0.1, .22, .58, 0.03, 0.07],\n",
    "                             [0.12, 0.38, .18, .12, .2]])}\n",
    "    \n",
    "    h_weights = np.array([0.2, 0.5, 0.3])\n",
    "    return component_param, h_weights\n",
    "\n",
    "\n",
    "def generate_data_fixed(data_size=10000):\n",
    "    # num_components = num_rows = num_views = 3\n",
    "    \n",
    "    component_param, h_weights = model_2()\n",
    "    \n",
    "    comp_label = np.arange(0,len(h_weights))  # there are num_components of components; zero-indexing\n",
    "    observation_label = np.arange(0, len(component_param[0][0]))\n",
    "    \n",
    "    data = []\n",
    "    for i in range(data_size):\n",
    "        # choose a component\n",
    "        choose = np.random.choice(comp_label, p = h_weights)\n",
    "        datum = []\n",
    "        for v in range(3):\n",
    "            datum.append(np.random.choice(observation_label, p = component_param[choose][v]))            \n",
    "        data.append(tuple(datum))\n",
    "        \n",
    "    rank = len(h_weights)\n",
    "    obs_size = len(component_param[0][0])\n",
    "    return  rank, obs_size, component_param, h_weights, data"
   ]
  },
  {
   "cell_type": "markdown",
   "metadata": {},
   "source": [
    "### Generate data"
   ]
  },
  {
   "cell_type": "code",
   "execution_count": 28,
   "metadata": {},
   "outputs": [],
   "source": [
    "data_len = 15000\n",
    "rank, obs_size, cp, h, data = generate_data_fixed(data_size=data_len)\n",
    "identity = np.eye(obs_size)\n",
    "get_identity_col = lambda col_num: identity[:, col_num]\n",
    "e0 = get_identity_col(0); e1 = get_identity_col(1); e2 = get_identity_col(2);\n",
    "\n",
    "def create_view_vecs(data, view):\n",
    "    return np.column_stack([get_identity_col(datum[view]) for datum in data])"
   ]
  },
  {
   "cell_type": "markdown",
   "metadata": {},
   "source": [
    "### Calculate second moments and prepare matrices for view symmetrization"
   ]
  },
  {
   "cell_type": "code",
   "execution_count": 29,
   "metadata": {},
   "outputs": [
    {
     "data": {
      "text/plain": [
       "1.0000000000000016"
      ]
     },
     "execution_count": 29,
     "metadata": {},
     "output_type": "execute_result"
    }
   ],
   "source": [
    "view0s = create_view_vecs(data,0)\n",
    "view1s = create_view_vecs(data,1)\n",
    "view2s = create_view_vecs(data,2)\n",
    "\n",
    "M01 = (view0s @ view1s.T)/len(data)\n",
    "M02 = (view0s @ view2s.T)/len(data)\n",
    "M10 = (view1s @ view0s.T)/len(data)\n",
    "M12 = (view1s @ view2s.T)/len(data) \n",
    "M20 = (view2s @ view0s.T)/len(data)\n",
    "M21 = (view2s @ view1s.T)/len(data)\n",
    "\n",
    "\n",
    "M01_pinv = np.linalg.pinv(M01)\n",
    "M02_pinv = np.linalg.pinv(M02)\n",
    "M10_pinv = np.linalg.pinv(M10)\n",
    "M12_pinv = np.linalg.pinv(M12)\n",
    "M20_pinv = np.linalg.pinv(M20)\n",
    "M21_pinv = np.linalg.pinv(M21)\n",
    "\n",
    "\n",
    "C_0_to_2 = M21 @ M01_pinv\n",
    "C_1_to_2 = M20 @ M10_pinv\n",
    "C_2_to_1 = M10 @ M20_pinv\n",
    "C_2_to_0 = M01 @ M21_pinv\n",
    "\n",
    "M_2 = 0.5* (C_0_to_2 @ M01 @ C_1_to_2.T + C_1_to_2 @ M10 @ C_0_to_2.T)\n",
    "np.sum(M_2)"
   ]
  },
  {
   "cell_type": "markdown",
   "metadata": {},
   "source": [
    "### Calculate and symmetrize the third moment"
   ]
  },
  {
   "cell_type": "code",
   "execution_count": 30,
   "metadata": {},
   "outputs": [
    {
     "data": {
      "text/plain": [
       "1.0000000000000016"
      ]
     },
     "execution_count": 30,
     "metadata": {},
     "output_type": "execute_result"
    }
   ],
   "source": [
    "def get_all_3rd_order_tensor(view0s, view1s, view2s, obs_size):\n",
    "    # get all the dummy estimate (before view transform) for all 3rd-order tensors\n",
    "    M3 = {(i,j,k):np.zeros((obs_size, obs_size, obs_size)) if i != j and i != k and j != k else None \\\n",
    "                                    for i in range(3)\\\n",
    "                                    for j in range(3)\\\n",
    "                                    for k in range(3)}\n",
    "    M3 = {key:value for key, value in M3.items() if M3[key] is not None}\n",
    "    views = [view0s, view1s, view2s]\n",
    "    for key in M3.keys():\n",
    "        for i in range(data_len):\n",
    "            M3[key] += views[key[0]][:,i][:,None,None] * views[key[1]][:,i][None,:,None] * views[key[2]][:,i][None,None,:]\n",
    "        M3[key] /= data_len\n",
    "    return M3\n",
    "\n",
    "M3 = get_all_3rd_order_tensor(view0s, view1s, view2s, obs_size)\n",
    "M012_trans = tl.tenalg.multi_mode_dot(M3[0,1,2], [C_0_to_2, C_1_to_2], modes=[0,1])\n",
    "M021_trans = tl.tenalg.multi_mode_dot(M3[0,2,1], [C_0_to_2, C_1_to_2], modes=[0,2])\n",
    "M102_trans = tl.tenalg.multi_mode_dot(M3[1,0,2], [C_1_to_2, C_0_to_2], modes=[0,1])\n",
    "M120_trans = tl.tenalg.multi_mode_dot(M3[1,2,0], [C_1_to_2, C_0_to_2], modes=[0,2])\n",
    "M201_trans = tl.tenalg.multi_mode_dot(M3[2,0,1], [C_0_to_2, C_1_to_2], modes=[1,2])\n",
    "M210_trans = tl.tenalg.multi_mode_dot(M3[2,1,0], [C_1_to_2, C_0_to_2], modes=[1,2])\n",
    "\n",
    "M_3 = (M012_trans+M021_trans+M102_trans+M120_trans+M201_trans+M210_trans)/6\n",
    "np.sum(M_3)"
   ]
  },
  {
   "cell_type": "markdown",
   "metadata": {},
   "source": [
    "### Whiten the tensors"
   ]
  },
  {
   "cell_type": "code",
   "execution_count": 31,
   "metadata": {},
   "outputs": [
    {
     "name": "stdout",
     "output_type": "stream",
     "text": [
      "           1  -2.99636e-16     1.677e-16  \n",
      "-2.51893e-16             1  -6.05262e-17  \n",
      " 1.48527e-16   3.00008e-16             1  \n"
     ]
    }
   ],
   "source": [
    "W, D_half, U = svd_whiten(M_2, rank) # a bit a cheating here by using rank variable\n",
    "matprint( W @ M_2 @ W.T)\n",
    "whitened_t01 = tl.tenalg.multi_mode_dot(M_2, [W, W], modes=[0,1])\n",
    "whitened_t012 = tl.tenalg.multi_mode_dot(M_3, [W, W, W], modes=[0,1,2])"
   ]
  },
  {
   "cell_type": "markdown",
   "metadata": {},
   "source": [
    "### Tensor power iteration (whitened case)"
   ]
  },
  {
   "cell_type": "code",
   "execution_count": 32,
   "metadata": {},
   "outputs": [],
   "source": [
    "w = []\n",
    "u = []\n",
    "deflated = None\n",
    "for i in range(3):\n",
    "    if deflated is None:        \n",
    "        w_temp, u_temp, deflated = symmetric_power_iteration(whitened_t012)        \n",
    "    else:\n",
    "        w_temp, u_temp, deflated = symmetric_power_iteration(deflated)\n",
    "    w.append(w_temp)\n",
    "    u.append(u_temp)"
   ]
  },
  {
   "cell_type": "code",
   "execution_count": 33,
   "metadata": {},
   "outputs": [
    {
     "name": "stdout",
     "output_type": "stream",
     "text": [
      "component weight:  0.179\n",
      "first view:  [0.125 0.035 0.198 0.011 0.631]\n",
      "second view: [0.222 0.156 0.05  0.55  0.022]\n",
      "third view:  [0.092 0.141 0.738 0.02  0.009]\n",
      " \n",
      "component weight:  0.294\n",
      "first view:  [0.404 0.414 0.04  0.02  0.124]\n",
      "second view: [0.094 0.264 0.496 0.04  0.107]\n",
      "third view:  [0.107 0.411 0.164 0.123 0.196]\n",
      " \n",
      "component weight:  0.518\n",
      "first view:  [0.203 0.423 0.191 0.09  0.094]\n",
      "second view: [0.099 0.01  0.595 0.156 0.14 ]\n",
      "third view:  [0.303 0.095 0.114 0.312 0.176]\n",
      " \n"
     ]
    }
   ],
   "source": [
    "recovered_h = np.array([pow(1/i,2) for i in w])\n",
    "os = [w[index] * U @ D_half @ u_i for index, u_i in enumerate(u)]\n",
    "for index, os_i in enumerate(os):\n",
    "    print(\"component weight: \", round(recovered_h[index], 3))\n",
    "    print(\"first view: \", C_2_to_0 @ os_i )\n",
    "    print(\"second view:\", C_2_to_1 @ os_i )\n",
    "    print(\"third view: \", os_i)\n",
    "    print(\" \")    "
   ]
  },
  {
   "cell_type": "markdown",
   "metadata": {},
   "source": [
    "### Asymmetric tensor power iteration (non-whitened case)"
   ]
  },
  {
   "cell_type": "code",
   "execution_count": 34,
   "metadata": {},
   "outputs": [
    {
     "name": "stdout",
     "output_type": "stream",
     "text": [
      "component weight:  0.194\n",
      "first view:  [0.138 0.054 0.188 0.005 0.616]\n",
      "second view: [0.218 0.157 0.025 0.545 0.055]\n",
      "third view:  [0.091 0.158 0.724 0.005 0.022]\n",
      " \n",
      "component weight:  0.515\n",
      "first view:  [0.216 0.427 0.182 0.097 0.079]\n",
      "second view: [0.089 0.033 0.594 0.126 0.158]\n",
      "third view:  [0.295 0.097 0.091 0.327 0.19 ]\n",
      " \n",
      "component weight:  0.31\n",
      "first view:  [0.389 0.446 0.041 0.026 0.098]\n",
      "second view: [0.097 0.224 0.591 0.03  0.058]\n",
      "third view:  [0.133 0.411 0.135 0.136 0.185]\n",
      " \n"
     ]
    }
   ],
   "source": [
    "M01_pinv = rank_k_pseudoinverse(M01, rank)\n",
    "M02_pinv = rank_k_pseudoinverse(M02, rank)\n",
    "M10_pinv = rank_k_pseudoinverse(M10, rank)\n",
    "M12_pinv = rank_k_pseudoinverse(M12, rank)\n",
    "M20_pinv = rank_k_pseudoinverse(M20, rank)\n",
    "M21_pinv = rank_k_pseudoinverse(M21, rank)\n",
    "\n",
    "T = M3[0,1,2]\n",
    "for _ in range(rank):\n",
    "    u = np.random.rand(obs_size)\n",
    "    u = np.divide(u, np.linalg.norm(u))\n",
    "  \n",
    "    for _ in range(80):\n",
    "        u = tl.tenalg.multi_mode_dot(T, [M01_pinv @ u, M02_pinv @ u], modes=[1,2])\n",
    "        u = np.divide(u, np.linalg.norm(u))\n",
    "    \n",
    "    a = np.divide(u, np.sqrt(np.abs(np.dot(u, M10_pinv @ M12 @ M02_pinv @ u))))\n",
    "    b = M12 @ M02_pinv @ a\n",
    "    c = M21 @ M01_pinv @ a\n",
    "    \n",
    "    lambda_1 =  tl.tenalg.multi_mode_dot(T, [ M10_pinv @ M12 @ M02_pinv @ a, M01_pinv @ a, M02_pinv @ a], modes=[0,1,2])\n",
    "    T = T - abs(lambda_1)*np.tensordot(np.tensordot(a,b,axes=0),c,axes=0) # deflation\n",
    "    \n",
    "    print(\"component weight: \", round(pow(1/lambda_1,2),3))\n",
    "    print(\"first view: \", a/np.sum(a))\n",
    "    print(\"second view:\", b/np.sum(b))\n",
    "    print(\"third view: \", c/np.sum(c))\n",
    "    print(\" \")"
   ]
  },
  {
   "cell_type": "code",
   "execution_count": null,
   "metadata": {},
   "outputs": [],
   "source": []
  },
  {
   "cell_type": "code",
   "execution_count": null,
   "metadata": {},
   "outputs": [],
   "source": []
  }
 ],
 "metadata": {
  "kernelspec": {
   "display_name": "Python 3",
   "language": "python",
   "name": "python3"
  },
  "language_info": {
   "codemirror_mode": {
    "name": "ipython",
    "version": 3
   },
   "file_extension": ".py",
   "mimetype": "text/x-python",
   "name": "python",
   "nbconvert_exporter": "python",
   "pygments_lexer": "ipython3",
   "version": "3.7.6"
  }
 },
 "nbformat": 4,
 "nbformat_minor": 4
}
