{
 "cells": [
  {
   "cell_type": "code",
   "execution_count": 1,
   "metadata": {},
   "outputs": [],
   "source": [
    "import tensorly as tl\n",
    "from tensorly.decomposition import symmetric_power_iteration\n",
    "import numpy as np\n",
    "np.set_printoptions(precision=2, suppress=True)\n",
    "\n",
    "def matprint(mat, fmt=\"g\"):\n",
    "    col_maxes = [max([len((\"{:\"+fmt+\"}\").format(x)) for x in col]) for col in mat.T]\n",
    "    for x in mat:\n",
    "        for i, y in enumerate(x):\n",
    "            print((\"{:\"+str(col_maxes[i])+fmt+\"}\").format(y), end=\"  \")\n",
    "        print(\"\")\n",
    "  \n",
    "def svd_whiten(X, k):\n",
    "    # X: matrix to decompose\n",
    "    # k: rank approximation\n",
    "    \n",
    "    U, s, Vt = np.linalg.svd(X, full_matrices=False)\n",
    "    # rank k approximation\n",
    "    U = U[:,:k]\n",
    "    s = s[:k]\n",
    "    Vt = Vt[:k,:]\n",
    "    \n",
    "    D_half = np.diag(np.sqrt(s))\n",
    "    W = np.diag(1./np.sqrt(s)) @ U.T\n",
    "\n",
    "    # so np.dot(np.dot(W.T, X),W) is the identity matrix\n",
    "        \n",
    "    return W , D_half, U\n",
    "\n",
    "def rank_k_pseudoinverse(X, k):\n",
    "    # pseudoinverse of rank k approximation of X\n",
    "    U, s, Vt = np.linalg.svd(X, full_matrices=False)\n",
    "\n",
    "    return np.linalg.pinv(U[:,:k] @ np.diag(s[:k]) @ Vt[:k,:])\n",
    "\n",
    "def model_1():\n",
    "    component_param =  {0: np.array([[0.15, 0.05, 0.8],\n",
    "                                    [0.2, 0.15, 0.65],\n",
    "                                    [0.12, 0.14, 0.74]]),\n",
    "                      1: np.array([[0.2, 0.1  , 0.7],\n",
    "                                   [0.1, 0.1, 0.8],\n",
    "                                   [0.3, 0.2,  0.5]]),\n",
    "                      2: np.array([[0.4, 0.15, 0.45],\n",
    "                             [0.9, 0.03, 0.07],\n",
    "                             [0.1, 0.7, 0.2]])}\n",
    "    \n",
    "    h_weights = np.array([0.2, 0.5, 0.3])\n",
    "    return component_param, h_weights\n",
    "\n",
    "def model_2():\n",
    "    component_param =  {0: np.array([[0.15, 0.05, 0.2, .01, .59],\n",
    "                                    [0.2, 0.15, .04, 0.55, .06],\n",
    "                                    [0.12, 0.14, 0.7, .02, .02]]),\n",
    "                      1: np.array([[0.2, 0.4  , 0.2, .1, .1],\n",
    "                                   [0.1, 0.03, 0.57, .15, .15],\n",
    "                                   [0.3, 0.1, .1, .33, .17]]),\n",
    "                      2: np.array([[0.4, 0.45, .03, .02, .1],\n",
    "                             [0.1, .22, .58, 0.03, 0.07],\n",
    "                             [0.12, 0.38, .18, .12, .2]])}\n",
    "    \n",
    "    h_weights = np.array([0.2, 0.5, 0.3])\n",
    "    return component_param, h_weights\n",
    "\n",
    "def model_3():\n",
    "    component_param =  {0: np.array([[.15, .05, .2 , .01, .59],\n",
    "                                     [.2 , .15, .04, .55, .06],\n",
    "                                     [.12, .14, .7 , .02, .02]]),\n",
    "                        \n",
    "                        1: np.array([[.2 , .4 , .2 , .1 , .1 ],\n",
    "                                     [.1 , .03, .57, .15, .15],\n",
    "                                     [.3 , .1 , .1 , .33, .17]]),\n",
    "                        \n",
    "                        2: np.array([[.4 , .45, .03, .02, .1 ],\n",
    "                                     [.1 , .22, .07, .03, .58],\n",
    "                                     [.12, .38, .18, .12, .2]]),\n",
    "                        \n",
    "                        3: np.array([[.12, .23, .43, .05, .17],\n",
    "                                     [.44, .38, .06, .06, .06],\n",
    "                                     [.21, .21, .21, .12, .25]]),\n",
    "                        \n",
    "                        4: np.array([[.38, .13, .32, .12, .05],\n",
    "                                     [.30, .1 , .14, .31, .15],\n",
    "                                     [.08, .04, .6 , .17, .11]])                          \n",
    "                       }\n",
    "    \n",
    "    h_weights = np.array([0.15, 0.43, 0.21, .07, .14])\n",
    "    return component_param, h_weights\n",
    "\n",
    "def model_4():\n",
    "    component_param =  {0: np.array([[.15, .05, .2 , .01, .23, .22, .14],\n",
    "                                     [.2 , .15, .04, .35, .06, .15, .05],\n",
    "                                     [.12, .14, .3 , .02, .02, .22, .18]]),\n",
    "                        \n",
    "                        1: np.array([[.23, .01, .22 ,.03 ,.31 ,.13, .07],\n",
    "                                     [.1 , .03, .3 , .15, .15, .12, .15],\n",
    "                                     [.3 , .1 , .1 , .17, .17, .07, .09]]),\n",
    "                        \n",
    "                        2: np.array([[.4 , .23, .03, .02, .1 , .02, .2 ],\n",
    "                                     [.1 , .22, .07, .03, .56, .01, .01],\n",
    "                                     [.12, .31, .18, .12, .2 , .03, .04]]),\n",
    "                        \n",
    "                        3: np.array([[.12, .13, .22, .05, .17, .1 , .21 ],\n",
    "                                     [.44, .13, .06, .02, .06, .25, .04],\n",
    "                                     [.08, .21, .21, .12, .21, .04, .13]]),\n",
    "                        \n",
    "                        4: np.array([[.29, .13, .26, .12, .05, .09, .06],\n",
    "                                     [.19, .1 , .05, .31, .15, .11, .09],\n",
    "                                     [.08, .04, .54, .11, .11, .06, .06]])                          \n",
    "                       }\n",
    "    \n",
    "    h_weights = np.array([0.15, 0.3, 0.21, .2, .14])\n",
    "    return component_param, h_weights\n",
    "\n",
    "def generate_data_fixed(data_size=10000):\n",
    "    # num_components = num_rows = num_views = 3\n",
    "    \n",
    "    component_param, h_weights = model_4()\n",
    "    \n",
    "    comp_label = np.arange(0,len(h_weights))  # there are num_components of components; zero-indexing\n",
    "    observation_label = np.arange(0, len(component_param[0][0]))\n",
    "    \n",
    "    data = []\n",
    "    for i in range(data_size):\n",
    "        # choose a component\n",
    "        choose = np.random.choice(comp_label, p = h_weights)\n",
    "        datum = []\n",
    "        for v in range(3):\n",
    "            datum.append(np.random.choice(observation_label, p = component_param[choose][v]))            \n",
    "        data.append(tuple(datum))\n",
    "        \n",
    "    rank = len(h_weights)\n",
    "    obs_size = len(component_param[0][0])\n",
    "    return  rank, obs_size, component_param, h_weights, data"
   ]
  },
  {
   "cell_type": "code",
   "execution_count": 2,
   "metadata": {},
   "outputs": [],
   "source": [
    "data_len = 300000\n",
    "rank, obs_size, cp, h, data = generate_data_fixed(data_size=data_len)\n",
    "identity = np.eye(obs_size)\n",
    "get_identity_col = lambda col_num: identity[:, col_num]\n",
    "e0 = get_identity_col(0); e1 = get_identity_col(1); e2 = get_identity_col(2);\n",
    "\n",
    "def create_view_vecs(data, view):\n",
    "    return np.column_stack([get_identity_col(datum[view]) for datum in data])"
   ]
  },
  {
   "cell_type": "code",
   "execution_count": 3,
   "metadata": {},
   "outputs": [
    {
     "data": {
      "text/plain": [
       "0.9999999999999758"
      ]
     },
     "execution_count": 3,
     "metadata": {},
     "output_type": "execute_result"
    }
   ],
   "source": [
    "view0s = create_view_vecs(data,0)\n",
    "view1s = create_view_vecs(data,1)\n",
    "view2s = create_view_vecs(data,2)\n",
    "\n",
    "M01 = (view0s @ view1s.T)/len(data)\n",
    "M02 = (view0s @ view2s.T)/len(data)\n",
    "M10 = (view1s @ view0s.T)/len(data)\n",
    "M12 = (view1s @ view2s.T)/len(data) \n",
    "M20 = (view2s @ view0s.T)/len(data)\n",
    "M21 = (view2s @ view1s.T)/len(data)\n",
    "\n",
    "\n",
    "M01_pinv = np.linalg.pinv(M01)\n",
    "M02_pinv = np.linalg.pinv(M02)\n",
    "M10_pinv = np.linalg.pinv(M10)\n",
    "M12_pinv = np.linalg.pinv(M12)\n",
    "M20_pinv = np.linalg.pinv(M20)\n",
    "M21_pinv = np.linalg.pinv(M21)\n",
    "\n",
    "\n",
    "C_0_to_2 = M21 @ M01_pinv\n",
    "C_1_to_2 = M20 @ M10_pinv\n",
    "C_2_to_1 = M10 @ M20_pinv\n",
    "C_2_to_0 = M01 @ M21_pinv\n",
    "\n",
    "M_2 = 0.5* (C_0_to_2 @ M01 @ C_1_to_2.T + C_1_to_2 @ M10 @ C_0_to_2.T)\n",
    "np.sum(M_2)"
   ]
  },
  {
   "cell_type": "code",
   "execution_count": 4,
   "metadata": {},
   "outputs": [
    {
     "data": {
      "text/plain": [
       "(7, 7)"
      ]
     },
     "execution_count": 4,
     "metadata": {},
     "output_type": "execute_result"
    }
   ],
   "source": [
    "M_2.shape"
   ]
  },
  {
   "cell_type": "code",
   "execution_count": 5,
   "metadata": {},
   "outputs": [
    {
     "data": {
      "text/plain": [
       "0.9999999999999758"
      ]
     },
     "execution_count": 5,
     "metadata": {},
     "output_type": "execute_result"
    }
   ],
   "source": [
    "def get_all_3rd_order_tensor(view0s, view1s, view2s, obs_size):\n",
    "    # get all the dummy estimate (before view transform) for all 3rd-order tensors\n",
    "    M3 = {(i,j,k):np.zeros((obs_size, obs_size, obs_size)) if i != j and i != k and j != k else None \\\n",
    "                                    for i in range(3)\\\n",
    "                                    for j in range(3)\\\n",
    "                                    for k in range(3)}\n",
    "    M3 = {key:value for key, value in M3.items() if M3[key] is not None}\n",
    "    views = [view0s, view1s, view2s]\n",
    "    for key in M3.keys():\n",
    "        for i in range(data_len):\n",
    "            M3[key] += views[key[0]][:,i][:,None,None] * views[key[1]][:,i][None,:,None] * views[key[2]][:,i][None,None,:]\n",
    "        M3[key] /= data_len\n",
    "    return M3\n",
    "\n",
    "M3 = get_all_3rd_order_tensor(view0s, view1s, view2s, obs_size)\n",
    "M012_trans = tl.tenalg.multi_mode_dot(M3[0,1,2], [C_0_to_2, C_1_to_2], modes=[0,1])\n",
    "M021_trans = tl.tenalg.multi_mode_dot(M3[0,2,1], [C_0_to_2, C_1_to_2], modes=[0,2])\n",
    "M102_trans = tl.tenalg.multi_mode_dot(M3[1,0,2], [C_1_to_2, C_0_to_2], modes=[0,1])\n",
    "M120_trans = tl.tenalg.multi_mode_dot(M3[1,2,0], [C_1_to_2, C_0_to_2], modes=[0,2])\n",
    "M201_trans = tl.tenalg.multi_mode_dot(M3[2,0,1], [C_0_to_2, C_1_to_2], modes=[1,2])\n",
    "M210_trans = tl.tenalg.multi_mode_dot(M3[2,1,0], [C_1_to_2, C_0_to_2], modes=[1,2])\n",
    "\n",
    "M_3 = (M012_trans+M021_trans+M102_trans+M120_trans+M201_trans+M210_trans)/6\n",
    "np.sum(M_3)"
   ]
  },
  {
   "cell_type": "code",
   "execution_count": 6,
   "metadata": {},
   "outputs": [
    {
     "name": "stdout",
     "output_type": "stream",
     "text": [
      "           1   4.41485e-16   1.35297e-16  5.41796e-16  3.66322e-15  \n",
      "-2.75143e-17             1    3.4363e-19  1.52511e-16  2.90856e-15  \n",
      "-1.22549e-16   1.99304e-16             1   7.4349e-17   -8.036e-15  \n",
      " 1.63776e-16   1.78738e-16  -6.52861e-16            1  5.84756e-15  \n",
      " 1.39818e-15  -8.00979e-16   6.92983e-17  7.38637e-17            1  \n"
     ]
    }
   ],
   "source": [
    "W, D_half, U = svd_whiten(M_2, rank) # a bit a cheating here by using rank variable\n",
    "matprint( W @ M_2 @ W.T)\n",
    "whitened_t01 = tl.tenalg.multi_mode_dot(M_2, [W, W], modes=[0,1])\n",
    "whitened_t012 = tl.tenalg.multi_mode_dot(M_3, [W, W, W], modes=[0,1,2])"
   ]
  },
  {
   "cell_type": "code",
   "execution_count": 7,
   "metadata": {},
   "outputs": [],
   "source": [
    "w = []\n",
    "u = []\n",
    "deflated = None\n",
    "for i in range(rank):\n",
    "    if deflated is None:        \n",
    "        w_temp, u_temp, deflated = symmetric_power_iteration(whitened_t012, n_repeat=50, n_iteration=40)        \n",
    "    else:\n",
    "        w_temp, u_temp, deflated = symmetric_power_iteration(deflated, n_repeat=50, n_iteration=40)    \n",
    "    w.append(w_temp)\n",
    "    u.append(u_temp)"
   ]
  },
  {
   "cell_type": "code",
   "execution_count": 8,
   "metadata": {},
   "outputs": [
    {
     "name": "stdout",
     "output_type": "stream",
     "text": [
      "component weight:  0.006\n",
      "first view:  [ 0.95  0.58 -0.59 -0.17 -0.17  0.12  0.35]\n",
      "second view: [ 0.56  0.24 -0.29  0.7  -0.39  0.28 -0.04]\n",
      "third view:  [-0.35  0.71  0.57 -0.36 -0.31  0.53  0.27]\n",
      " \n",
      "component weight:  0.017\n",
      "first view:  [-0.38 -0.02  0.39  0.09  0.14  0.28  0.26]\n",
      "second view: [ 0.66  0.23 -0.32  0.14 -0.26  0.43 -0.11]\n",
      "third view:  [-0.13 -0.    0.38 -0.03  0.11  0.16  0.27]\n",
      " \n",
      "component weight:  0.086\n",
      "first view:  [0.14 0.04 0.25 0.16 0.04 0.12 0.1 ]\n",
      "second view: [0.14 0.04 0.06 0.34 0.07 0.1  0.11]\n",
      "third view:  [ 0.04 -0.03  0.62  0.1   0.05  0.02  0.03]\n",
      " \n",
      "component weight:  0.143\n",
      "first view:  [ 0.14 -0.04  0.21  0.01  0.27  0.04 -0.04]\n",
      "second view: [-0.14  0.02  0.32 -0.01  0.35 -0.05  0.12]\n",
      "third view:  [ 0.34  0.01 -0.1   0.19  0.18 -0.02  0.01]\n",
      " \n",
      "component weight:  0.459\n",
      "first view:  [-0.    0.02 -0.17 -0.04 -0.11 -0.06 -0.03]\n",
      "second view: [-0.06 -0.04 -0.08 -0.04 -0.11 -0.05 -0.04]\n",
      "third view:  [-0.11  0.01 -0.1  -0.08 -0.09 -0.   -0.04]\n",
      " \n"
     ]
    }
   ],
   "source": [
    "recovered_h = np.array([pow(1/i,2) for i in w])\n",
    "os = [w[index] * U @ D_half @ u_i for index, u_i in enumerate(u)]\n",
    "for index, os_i in enumerate(os):\n",
    "    print(\"component weight: \", round(recovered_h[index], 3))\n",
    "    print(\"first view: \", C_2_to_0 @ os_i )\n",
    "    print(\"second view:\", C_2_to_1 @ os_i )\n",
    "    print(\"third view: \", os_i)\n",
    "    print(\" \")    "
   ]
  },
  {
   "cell_type": "code",
   "execution_count": 9,
   "metadata": {},
   "outputs": [
    {
     "name": "stdout",
     "output_type": "stream",
     "text": [
      "component weight:  0.008\n",
      "first view:  [0.47 0.29 0.   0.   0.   0.06 0.17]\n",
      "second view: [0.31 0.13 0.01 0.39 0.01 0.15 0.01]\n",
      "third view:  [0.   0.34 0.27 0.   0.   0.25 0.13]\n",
      " \n",
      "component weight:  0.024\n",
      "first view:  [0.01 0.01 0.33 0.07 0.12 0.24 0.22]\n",
      "second view: [0.44 0.15 0.01 0.09 0.01 0.29 0.01]\n",
      "third view:  [0.01 0.01 0.4  0.01 0.12 0.16 0.29]\n",
      " \n",
      "component weight:  0.121\n",
      "first view:  [0.17 0.05 0.29 0.19 0.04 0.14 0.11]\n",
      "second view: [0.16 0.05 0.07 0.4  0.08 0.11 0.13]\n",
      "third view:  [0.05 0.01 0.7  0.12 0.06 0.03 0.03]\n",
      " \n",
      "component weight:  0.201\n",
      "first view:  [0.21 0.01 0.3  0.02 0.38 0.06 0.01]\n",
      "second view: [0.01 0.02 0.38 0.01 0.42 0.01 0.14]\n",
      "third view:  [0.45 0.02 0.01 0.25 0.24 0.01 0.01]\n",
      " \n",
      "component weight:  0.646\n",
      "first view:  [0.13 0.21 0.13 0.13 0.13 0.13 0.13]\n",
      "second view: [0.14 0.14 0.14 0.14 0.14 0.14 0.14]\n",
      "third view:  [0.15 0.11 0.15 0.15 0.15 0.15 0.15]\n",
      " \n"
     ]
    }
   ],
   "source": [
    "def process_os_i(vec):\n",
    "    processed = [i if i > 0 else 0.01 for i in vec]\n",
    "    return np.array(processed)/sum(processed)\n",
    "\n",
    "recovered_h = process_os_i(np.array([pow(1/i,2) for i in w]))\n",
    "os = [w[index] * U @ D_half @ u_i for index, u_i in enumerate(u)]\n",
    "for index, os_i in enumerate(os):\n",
    "    print(\"component weight: \", round(recovered_h[index], 3))\n",
    "    print(\"first view: \", process_os_i(C_2_to_0 @ os_i))\n",
    "    print(\"second view:\", process_os_i(C_2_to_1 @ os_i) )\n",
    "    print(\"third view: \", process_os_i(os_i))\n",
    "    print(\" \")    "
   ]
  },
  {
   "cell_type": "code",
   "execution_count": 10,
   "metadata": {},
   "outputs": [
    {
     "name": "stdout",
     "output_type": "stream",
     "text": [
      "component weight:  0.2\n",
      "first view:  [0.13 0.14 0.23 0.04 0.15 0.1  0.21]\n",
      "second view: [0.44 0.13 0.06 0.03 0.02 0.27 0.05]\n",
      "third view:  [0.06 0.21 0.23 0.12 0.2  0.05 0.13]\n",
      " \n",
      "component weight:  0.11\n",
      "first view:  [ 0.1   0.07  0.16 -0.03  0.27  0.26  0.16]\n",
      "second view: [ 0.25  0.19 -0.02  0.36  0.05  0.16  0.01]\n",
      "third view:  [0.11 0.12 0.24 0.   0.07 0.24 0.22]\n",
      " \n",
      "component weight:  0.342\n",
      "first view:  [0.24 0.01 0.22 0.03 0.3  0.14 0.07]\n",
      "second view: [0.08 0.04 0.28 0.19 0.17 0.1  0.14]\n",
      "third view:  [0.29 0.09 0.13 0.16 0.16 0.08 0.09]\n",
      " \n",
      "component weight:  0.22\n",
      "first view:  [0.41 0.22 0.04 0.02 0.11 0.01 0.19]\n",
      "second view: [ 0.1   0.21  0.1  -0.01  0.59 -0.    0.02]\n",
      "third view:  [0.16 0.31 0.13 0.14 0.22 0.01 0.03]\n",
      " \n",
      "component weight:  0.125\n",
      "first view:  [0.25 0.11 0.28 0.1  0.07 0.12 0.06]\n",
      "second view: [0.19 0.1  0.03 0.38 0.08 0.13 0.09]\n",
      "third view:  [0.07 0.06 0.6  0.07 0.02 0.1  0.08]\n",
      " \n"
     ]
    }
   ],
   "source": [
    "M01_pinv = rank_k_pseudoinverse(M01, rank)\n",
    "M02_pinv = rank_k_pseudoinverse(M02, rank)\n",
    "M10_pinv = rank_k_pseudoinverse(M10, rank)\n",
    "M12_pinv = rank_k_pseudoinverse(M12, rank)\n",
    "M20_pinv = rank_k_pseudoinverse(M20, rank)\n",
    "M21_pinv = rank_k_pseudoinverse(M21, rank)\n",
    "\n",
    "T = M3[0,1,2]\n",
    "for _ in range(rank):\n",
    "    u = np.random.rand(obs_size)\n",
    "    u = np.divide(u, np.linalg.norm(u))\n",
    "  \n",
    "    for _ in range(80):\n",
    "        u = tl.tenalg.multi_mode_dot(T, [M01_pinv @ u, M02_pinv @ u], modes=[1,2])\n",
    "        u = np.divide(u, np.linalg.norm(u))\n",
    "    \n",
    "    a = np.divide(u, np.sqrt(np.abs(np.dot(u, M10_pinv @ M12 @ M02_pinv @ u))))\n",
    "    b = M12 @ M02_pinv @ a\n",
    "    c = M21 @ M01_pinv @ a\n",
    "    \n",
    "    lambda_1 =  tl.tenalg.multi_mode_dot(T, [ M10_pinv @ M12 @ M02_pinv @ a, M01_pinv @ a, M02_pinv @ a], modes=[0,1,2])\n",
    "    T = T - abs(lambda_1)*np.tensordot(np.tensordot(a,b,axes=0),c,axes=0) # deflation\n",
    "    \n",
    "    print(\"component weight: \", round(pow(1/lambda_1,2),3))\n",
    "    print(\"first view: \", a/np.sum(a))\n",
    "    print(\"second view:\", b/np.sum(b))\n",
    "    print(\"third view: \", c/np.sum(c))\n",
    "    print(\" \")"
   ]
  },
  {
   "cell_type": "code",
   "execution_count": 164,
   "metadata": {},
   "outputs": [
    {
     "data": {
      "text/plain": [
       "({0: array([[0.15, 0.05, 0.2 , 0.01, 0.23, 0.22, 0.14],\n",
       "         [0.2 , 0.15, 0.04, 0.35, 0.06, 0.15, 0.05],\n",
       "         [0.12, 0.14, 0.3 , 0.02, 0.02, 0.22, 0.18]]),\n",
       "  1: array([[0.23, 0.01, 0.22, 0.03, 0.31, 0.13, 0.07],\n",
       "         [0.1 , 0.03, 0.3 , 0.15, 0.15, 0.12, 0.15],\n",
       "         [0.3 , 0.1 , 0.1 , 0.17, 0.17, 0.07, 0.09]]),\n",
       "  2: array([[0.4 , 0.23, 0.03, 0.02, 0.1 , 0.02, 0.2 ],\n",
       "         [0.1 , 0.22, 0.07, 0.03, 0.56, 0.01, 0.01],\n",
       "         [0.12, 0.31, 0.18, 0.12, 0.2 , 0.03, 0.04]]),\n",
       "  3: array([[0.12, 0.13, 0.22, 0.05, 0.17, 0.1 , 0.21],\n",
       "         [0.44, 0.13, 0.06, 0.02, 0.06, 0.25, 0.04],\n",
       "         [0.08, 0.21, 0.21, 0.12, 0.21, 0.04, 0.13]]),\n",
       "  4: array([[0.29, 0.13, 0.26, 0.12, 0.05, 0.09, 0.06],\n",
       "         [0.19, 0.1 , 0.05, 0.31, 0.15, 0.11, 0.09],\n",
       "         [0.08, 0.04, 0.54, 0.11, 0.11, 0.06, 0.06]])},\n",
       " array([0.15, 0.3 , 0.21, 0.2 , 0.14]))"
      ]
     },
     "execution_count": 164,
     "metadata": {},
     "output_type": "execute_result"
    }
   ],
   "source": [
    "model_4()"
   ]
  },
  {
   "cell_type": "code",
   "execution_count": 165,
   "metadata": {},
   "outputs": [],
   "source": [
    "# so it seemed that iterate asymmetrically is more stable"
   ]
  },
  {
   "cell_type": "code",
   "execution_count": 169,
   "metadata": {},
   "outputs": [
    {
     "data": {
      "text/plain": [
       "86"
      ]
     },
     "execution_count": 169,
     "metadata": {},
     "output_type": "execute_result"
    }
   ],
   "source": [
    "105-20+1"
   ]
  },
  {
   "cell_type": "code",
   "execution_count": null,
   "metadata": {},
   "outputs": [],
   "source": []
  }
 ],
 "metadata": {
  "kernelspec": {
   "display_name": "Python 3",
   "language": "python",
   "name": "python3"
  },
  "language_info": {
   "codemirror_mode": {
    "name": "ipython",
    "version": 3
   },
   "file_extension": ".py",
   "mimetype": "text/x-python",
   "name": "python",
   "nbconvert_exporter": "python",
   "pygments_lexer": "ipython3",
   "version": "3.7.6"
  }
 },
 "nbformat": 4,
 "nbformat_minor": 4
}
